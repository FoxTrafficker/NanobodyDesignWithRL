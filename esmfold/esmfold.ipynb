{
 "cells": [
  {
   "cell_type": "code",
   "execution_count": 3,
   "metadata": {},
   "outputs": [
    {
     "name": "stdout",
     "output_type": "stream",
     "text": [
      "24/03/17 22:28:42 | INFO | root | Reading sequences from /home/sding/Project/Nanobody_Design_with_RL/data/0_Sequences/wet_tested_vhhs.fasta\n",
      "24/03/17 22:28:42 | INFO | root | Loaded 6 sequences from /home/sding/Project/Nanobody_Design_with_RL/data/0_Sequences/wet_tested_vhhs.fasta\n",
      "24/03/17 22:28:42 | INFO | root | Loading model\n",
      "24/03/17 22:29:34 | INFO | root | Starting Predictions\n",
      "24/03/17 22:29:41 | INFO | root | Predicted structure for WT with length 129, pLDDT 83.5, pTM 0.872 in 1.2s (amortized, batch size 6). 1 / 6 completed.\n",
      "24/03/17 22:29:41 | INFO | root | Predicted structure for VHH1832 with length 129, pLDDT 74.4, pTM 0.802 in 1.2s (amortized, batch size 6). 2 / 6 completed.\n",
      "24/03/17 22:29:41 | INFO | root | Predicted structure for VHH1834 with length 129, pLDDT 75.9, pTM 0.811 in 1.2s (amortized, batch size 6). 3 / 6 completed.\n",
      "24/03/17 22:29:41 | INFO | root | Predicted structure for VHH1835 with length 129, pLDDT 73.2, pTM 0.798 in 1.2s (amortized, batch size 6). 4 / 6 completed.\n",
      "24/03/17 22:29:41 | INFO | root | Predicted structure for VHH1836 with length 129, pLDDT 75.1, pTM 0.806 in 1.2s (amortized, batch size 6). 5 / 6 completed.\n",
      "24/03/17 22:29:41 | INFO | root | Predicted structure for VHH1837 with length 129, pLDDT 77.2, pTM 0.826 in 1.2s (amortized, batch size 6). 6 / 6 completed.\n"
     ]
    }
   ],
   "source": [
    "!esm-fold -i /home/sding/Project/Nanobody_Design_with_RL/data/0_Sequences/wet_tested_vhhs.fasta -o /home/sding/Project/Nanobody_Design_with_RL/data/1_Structures/galectin-3/antibody/VHH"
   ]
  }
 ],
 "metadata": {
  "kernelspec": {
   "display_name": "esmfold",
   "language": "python",
   "name": "python3"
  },
  "language_info": {
   "codemirror_mode": {
    "name": "ipython",
    "version": 3
   },
   "file_extension": ".py",
   "mimetype": "text/x-python",
   "name": "python",
   "nbconvert_exporter": "python",
   "pygments_lexer": "ipython3",
   "version": "3.7.12"
  }
 },
 "nbformat": 4,
 "nbformat_minor": 2
}
