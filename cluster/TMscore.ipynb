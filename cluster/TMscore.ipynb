{
 "cells": [
  {
   "cell_type": "code",
   "execution_count": 15,
   "metadata": {},
   "outputs": [],
   "source": [
    "with open('randomVHH','w') as f:\n",
    "    for i in range(200):\n",
    "        f.write(f'./{i:06}.pdb\\n')"
   ]
  },
  {
   "cell_type": "code",
   "execution_count": 2,
   "metadata": {},
   "outputs": [
    {
     "name": "stdout",
     "output_type": "stream",
     "text": [
      "Can not open file: randomVHH\n",
      "\n"
     ]
    }
   ],
   "source": [
    "!./TMscore -dir randomVHH randomVHH -outfmt 2 -fast"
   ]
  },
  {
   "cell_type": "code",
   "execution_count": 1,
   "metadata": {},
   "outputs": [
    {
     "name": "stdout",
     "output_type": "stream",
     "text": [
      "#PDBchain1\tPDBchain2\tTM1\tTM2\tRMSD\tID1\tID2\tIDali\tL1\tL2\tLali\n",
      "/home/sding/Project/Nanobody_Design_with_RL/data/1_Structures/galectin-3/antibody/VHH/VHH1832.pdb\t/home/sding/Project/Nanobody_Design_with_RL/data/1_Structures/galectin-3/antibody/VHH/VHH1834.pdb\t0.0000\t0.9150\t2.01\t0.829\t0.829\t0.829\t129\t129\t129\n"
     ]
    }
   ],
   "source": [
    "!./TMscore /home/sding/Project/Nanobody_Design_with_RL/data/1_Structures/galectin-3/antibody/VHH/VHH1832.pdb  /home/sding/Project/Nanobody_Design_with_RL/data/1_Structures/galectin-3/antibody/VHH/VHH1834.pdb -outfmt 2"
   ]
  }
 ],
 "metadata": {
  "kernelspec": {
   "display_name": "esmfold",
   "language": "python",
   "name": "python3"
  },
  "language_info": {
   "codemirror_mode": {
    "name": "ipython",
    "version": 3
   },
   "file_extension": ".py",
   "mimetype": "text/x-python",
   "name": "python",
   "nbconvert_exporter": "python",
   "pygments_lexer": "ipython3",
   "version": "3.7.12"
  }
 },
 "nbformat": 4,
 "nbformat_minor": 2
}
